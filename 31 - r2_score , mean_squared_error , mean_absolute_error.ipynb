{
 "cells": [
  {
   "cell_type": "code",
   "execution_count": 1,
   "id": "48a43367",
   "metadata": {},
   "outputs": [],
   "source": [
    "import numpy as np"
   ]
  },
  {
   "cell_type": "code",
   "execution_count": null,
   "id": "0c929825",
   "metadata": {},
   "outputs": [],
   "source": [
    "from sklearn.metrics import r2_score , mean_squared_error , mean_absolute_error \n",
    "print(\"MAE :\" , mean_absolute_error(y_pred , y_test))\n",
    "print(\"MSE :\" , mean_squared_error(y_pred , y_test))\n",
    "print(\"r2_score :\" , r2_score(y_pred , y_test))\n",
    "print(\"RMSE :\" , np.sqrt(mean_squared_error(y_pred , y_test)))"
   ]
  }
 ],
 "metadata": {
  "kernelspec": {
   "display_name": "Python 3 (ipykernel)",
   "language": "python",
   "name": "python3"
  },
  "language_info": {
   "codemirror_mode": {
    "name": "ipython",
    "version": 3
   },
   "file_extension": ".py",
   "mimetype": "text/x-python",
   "name": "python",
   "nbconvert_exporter": "python",
   "pygments_lexer": "ipython3",
   "version": "3.10.11"
  }
 },
 "nbformat": 4,
 "nbformat_minor": 5
}

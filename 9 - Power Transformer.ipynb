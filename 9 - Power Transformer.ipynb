{
 "cells": [
  {
   "cell_type": "code",
   "execution_count": 1,
   "id": "2e59aae5",
   "metadata": {},
   "outputs": [],
   "source": [
    "import numpy as np\n",
    "import pandas as pd"
   ]
  },
  {
   "cell_type": "code",
   "execution_count": 3,
   "id": "e2db866f",
   "metadata": {},
   "outputs": [],
   "source": [
    "from sklearn.preprocessing import PowerTransformer\n"
   ]
  },
  {
   "cell_type": "code",
   "execution_count": 4,
   "id": "4ceb72ef",
   "metadata": {},
   "outputs": [],
   "source": [
    "pt=PowerTransformer(method=\"yeo-johnson\")  #for Character "
   ]
  },
  {
   "cell_type": "code",
   "execution_count": 6,
   "id": "4ed9ecea",
   "metadata": {},
   "outputs": [],
   "source": [
    "pt=PowerTransformer(method=\"box-cox\")  #for Numericals"
   ]
  },
  {
   "cell_type": "code",
   "execution_count": null,
   "id": "c2f9237d",
   "metadata": {},
   "outputs": [],
   "source": []
  }
 ],
 "metadata": {
  "kernelspec": {
   "display_name": "Python 3 (ipykernel)",
   "language": "python",
   "name": "python3"
  },
  "language_info": {
   "codemirror_mode": {
    "name": "ipython",
    "version": 3
   },
   "file_extension": ".py",
   "mimetype": "text/x-python",
   "name": "python",
   "nbconvert_exporter": "python",
   "pygments_lexer": "ipython3",
   "version": "3.10.11"
  }
 },
 "nbformat": 4,
 "nbformat_minor": 5
}
